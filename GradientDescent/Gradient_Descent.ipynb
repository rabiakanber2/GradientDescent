{
 "cells": [
  {
   "cell_type": "markdown",
   "metadata": {},
   "source": [
    "# Gradient Descent"
   ]
  },
  {
   "cell_type": "markdown",
   "metadata": {},
   "source": [
    "Makine Öğrenmesi için çok önemli olan Gradient Descent konusunu öğreneceğiz."
   ]
  },
  {
   "cell_type": "markdown",
   "metadata": {},
   "source": [
    "Gradient Descent neredeyse bütün ML algoritmaları için kullanılır ve Gradient Descent', ML algortimalarının nasıl işlediğini anlamanız için hayati önemdedir."
   ]
  },
  {
   "cell_type": "markdown",
   "metadata": {},
   "source": [
    "### Data"
   ]
  },
  {
   "cell_type": "markdown",
   "metadata": {},
   "source": [
    "Önce kendimize biraz data oluşturalım"
   ]
  },
  {
   "cell_type": "code",
   "execution_count": 3,
   "metadata": {},
   "outputs": [],
   "source": [
    "import numpy as np\n",
    "import matplotlib.pyplot as plt"
   ]
  },
  {
   "cell_type": "code",
   "execution_count": 4,
   "metadata": {
    "collapsed": true,
    "jupyter": {
     "outputs_hidden": true
    },
    "tags": []
   },
   "outputs": [
    {
     "data": {
      "text/plain": [
       "array([[1.67760392],\n",
       "       [1.22126933],\n",
       "       [0.03292783],\n",
       "       [1.40186532],\n",
       "       [0.01517834],\n",
       "       [1.10285613],\n",
       "       [0.23190269],\n",
       "       [1.72242839],\n",
       "       [1.3233157 ],\n",
       "       [1.35288838],\n",
       "       [0.3287204 ],\n",
       "       [1.31693016],\n",
       "       [1.59908869],\n",
       "       [0.75097211],\n",
       "       [0.84654337],\n",
       "       [0.27580741],\n",
       "       [1.78009757],\n",
       "       [0.65771451],\n",
       "       [0.48476757],\n",
       "       [1.09305445],\n",
       "       [0.906142  ],\n",
       "       [1.58440491],\n",
       "       [1.98658348],\n",
       "       [0.85902528],\n",
       "       [0.89764231],\n",
       "       [1.16347149],\n",
       "       [1.92476249],\n",
       "       [0.06778011],\n",
       "       [1.72222865],\n",
       "       [1.47305494],\n",
       "       [0.83723708],\n",
       "       [0.08966364],\n",
       "       [1.15084654],\n",
       "       [0.60142956],\n",
       "       [0.90063763],\n",
       "       [0.49672086],\n",
       "       [1.89553005],\n",
       "       [0.83141246],\n",
       "       [0.85592082],\n",
       "       [1.20283862],\n",
       "       [1.74700728],\n",
       "       [0.4939493 ],\n",
       "       [0.34519871],\n",
       "       [1.21233401],\n",
       "       [1.32616597],\n",
       "       [0.49246071],\n",
       "       [0.26303034],\n",
       "       [1.99825941],\n",
       "       [0.27780969],\n",
       "       [1.32602429],\n",
       "       [0.47149195],\n",
       "       [0.98189509],\n",
       "       [0.18878486],\n",
       "       [0.66515291],\n",
       "       [1.44206341],\n",
       "       [0.22304547],\n",
       "       [0.1013416 ],\n",
       "       [0.5496381 ],\n",
       "       [1.60764367],\n",
       "       [1.72799416],\n",
       "       [0.83482293],\n",
       "       [1.1638084 ],\n",
       "       [1.29199829],\n",
       "       [0.70420747],\n",
       "       [1.28630454],\n",
       "       [0.83589509],\n",
       "       [0.31302345],\n",
       "       [0.17097007],\n",
       "       [0.01483587],\n",
       "       [1.1723282 ],\n",
       "       [1.84036131],\n",
       "       [0.43438121],\n",
       "       [0.84338826],\n",
       "       [0.74398   ],\n",
       "       [0.22486814],\n",
       "       [0.49225765],\n",
       "       [0.189077  ],\n",
       "       [1.62553652],\n",
       "       [1.97286406],\n",
       "       [1.58741939],\n",
       "       [0.44409246],\n",
       "       [0.49026847],\n",
       "       [1.00837717],\n",
       "       [0.99782621],\n",
       "       [0.99974732],\n",
       "       [1.57217656],\n",
       "       [0.76963647],\n",
       "       [0.08509483],\n",
       "       [1.97466341],\n",
       "       [0.17693721],\n",
       "       [0.87944332],\n",
       "       [1.66321015],\n",
       "       [0.81346593],\n",
       "       [1.32433367],\n",
       "       [1.98318696],\n",
       "       [0.88863004],\n",
       "       [1.36364093],\n",
       "       [0.52241186],\n",
       "       [0.405095  ],\n",
       "       [0.84256274]])"
      ]
     },
     "execution_count": 4,
     "metadata": {},
     "output_type": "execute_result"
    }
   ],
   "source": [
    "X = 2 * np.random.rand(100,1)\n",
    "X"
   ]
  },
  {
   "cell_type": "code",
   "execution_count": 5,
   "metadata": {
    "collapsed": true,
    "jupyter": {
     "outputs_hidden": true
    },
    "tags": []
   },
   "outputs": [
    {
     "data": {
      "text/plain": [
       "array([[ 9.42182178],\n",
       "       [ 7.67893322],\n",
       "       [ 4.65693701],\n",
       "       [ 8.60764008],\n",
       "       [ 4.80344565],\n",
       "       [ 8.25952623],\n",
       "       [ 5.62449372],\n",
       "       [ 9.61559722],\n",
       "       [ 8.37057142],\n",
       "       [ 8.74452916],\n",
       "       [ 5.75380562],\n",
       "       [ 8.76545762],\n",
       "       [ 8.95558665],\n",
       "       [ 7.17013647],\n",
       "       [ 6.73905678],\n",
       "       [ 5.71297758],\n",
       "       [10.15937074],\n",
       "       [ 6.72871564],\n",
       "       [ 6.21202202],\n",
       "       [ 7.68388928],\n",
       "       [ 7.31568187],\n",
       "       [ 8.89899033],\n",
       "       [10.26727773],\n",
       "       [ 7.42179025],\n",
       "       [ 6.79140852],\n",
       "       [ 8.14020449],\n",
       "       [10.73492975],\n",
       "       [ 4.62947785],\n",
       "       [10.11798463],\n",
       "       [ 8.99238076],\n",
       "       [ 7.42976099],\n",
       "       [ 5.26285963],\n",
       "       [ 7.52214101],\n",
       "       [ 5.93114503],\n",
       "       [ 7.11640788],\n",
       "       [ 6.11716173],\n",
       "       [ 9.95821327],\n",
       "       [ 7.34182453],\n",
       "       [ 6.61995658],\n",
       "       [ 8.19333262],\n",
       "       [ 9.84174891],\n",
       "       [ 6.32782702],\n",
       "       [ 5.38831923],\n",
       "       [ 8.36887154],\n",
       "       [ 8.16402021],\n",
       "       [ 5.94078376],\n",
       "       [ 5.41150322],\n",
       "       [10.67173389],\n",
       "       [ 4.85224998],\n",
       "       [ 8.00818586],\n",
       "       [ 6.0089734 ],\n",
       "       [ 7.87477178],\n",
       "       [ 4.57372381],\n",
       "       [ 6.80384612],\n",
       "       [ 8.59719672],\n",
       "       [ 4.9753787 ],\n",
       "       [ 4.35533643],\n",
       "       [ 6.27492451],\n",
       "       [ 9.32814824],\n",
       "       [ 9.59091985],\n",
       "       [ 7.07029692],\n",
       "       [ 7.74247996],\n",
       "       [ 8.71722055],\n",
       "       [ 6.70598152],\n",
       "       [ 8.21787131],\n",
       "       [ 7.44443476],\n",
       "       [ 5.72295584],\n",
       "       [ 4.99512184],\n",
       "       [ 4.04575083],\n",
       "       [ 7.61891549],\n",
       "       [ 9.71240844],\n",
       "       [ 5.73418691],\n",
       "       [ 6.8185924 ],\n",
       "       [ 6.55582273],\n",
       "       [ 5.2541925 ],\n",
       "       [ 5.90447878],\n",
       "       [ 5.30199398],\n",
       "       [ 8.91606571],\n",
       "       [10.6683283 ],\n",
       "       [ 9.5916422 ],\n",
       "       [ 6.17441176],\n",
       "       [ 6.05289531],\n",
       "       [ 7.59164719],\n",
       "       [ 7.15900645],\n",
       "       [ 7.77306929],\n",
       "       [ 9.31893935],\n",
       "       [ 6.4343791 ],\n",
       "       [ 5.2308601 ],\n",
       "       [10.15919656],\n",
       "       [ 5.32740539],\n",
       "       [ 7.11536469],\n",
       "       [ 9.08390714],\n",
       "       [ 6.60286891],\n",
       "       [ 8.23804344],\n",
       "       [10.1346554 ],\n",
       "       [ 7.24770654],\n",
       "       [ 8.61301934],\n",
       "       [ 5.90138628],\n",
       "       [ 5.55840098],\n",
       "       [ 7.31020221]])"
      ]
     },
     "execution_count": 5,
     "metadata": {},
     "output_type": "execute_result"
    }
   ],
   "source": [
    "y = 4 + 3* X + np.random.rand(100,1)\n",
    "y"
   ]
  },
  {
   "cell_type": "code",
   "execution_count": 6,
   "metadata": {},
   "outputs": [
    {
     "data": {
      "image/png": "[encoded data removed]",
      "text/plain": [
       "<Figure size 432x288 with 1 Axes>"
      ]
     },
     "metadata": {
      "needs_background": "light"
     },
     "output_type": "display_data"
    }
   ],
   "source": [
    "#grafiğini çizelim\n",
    "plt.scatter(X,y)\n",
    "plt.xlabel('X')\n",
    "plt.ylabel('y')\n",
    "plt.show()"
   ]
  },
  {
   "cell_type": "markdown",
   "metadata": {},
   "source": [
    "Görüldüğü gibi, y ile X arasında lineer bir ilişki var."
   ]
  },
  {
   "cell_type": "markdown",
   "metadata": {},
   "source": [
    "X ile y arasındaki gerçek ilişki:\n",
    "\n",
    "$$ y = w_0 + w_1X + \\epsilon $$"
   ]
  },
  {
   "cell_type": "markdown",
   "metadata": {},
   "source": [
    "Burada W (weight) vektorü: $W = [w_0 \\ w_1]$"
   ]
  },
  {
   "cell_type": "markdown",
   "metadata": {},
   "source": [
    "Yukarıda yazdığımız denklemde:\n",
    "\n",
    "$y = 4 + 3 * X + np.random.rand(100, 1)$\n",
    "\n",
    "gerçek katsayı değerleri:\n",
    "\n",
    "$w_0 = 4$\n",
    "\n",
    "$w_1 = 3$"
   ]
  },
  {
   "cell_type": "markdown",
   "metadata": {},
   "source": [
    "Vektörler ile gösterirsek:\n",
    "\n",
    "$$ y = WX + \\epsilon $$\n",
    "\n",
    "Burada $WX$ değeri W ile X'in Dot Product'ıdır (İç Çarpım)."
   ]
  },
  {
   "cell_type": "markdown",
   "metadata": {},
   "source": [
    "**Analitik Çözüm:**"
   ]
  },
  {
   "cell_type": "markdown",
   "metadata": {},
   "source": [
    "Least Squares yöntemi, RSS minimize ederek, en iyi $w_0$ ve $w_1$ değerlerini tahmin eder."
   ]
  },
  {
   "cell_type": "markdown",
   "metadata": {},
   "source": [
    "Tahmin (herhangi bir x_i değerinde):\n",
    "\n",
    "$$ \\hat y^{(i)} = \\hat w_0 + \\hat w_1 x^{(i)} $$"
   ]
  },
  {
   "cell_type": "markdown",
   "metadata": {},
   "source": [
    "$x^{(i)}$: indexi i olan data\n",
    "\n",
    "$\\hat y^{(i)}$: indexi i olan data için tahmin (toplamda n adet data var)"
   ]
  },
  {
   "cell_type": "markdown",
   "metadata": {},
   "source": [
    "Genel olarak:\n",
    "* **Değişkenler** için (sütun) alt index **($x_i$)** kullanılır.\n",
    "* **Veriler** için (satır) üst index **($x^{(i)}$)** kullanılır"
   ]
  },
  {
   "cell_type": "markdown",
   "metadata": {},
   "source": [
    "Burada X'ler yani girdiler bilindiğine göre, tahmin etmeye çalıştığımız değişkenler (katsayılar) $w_0$ ve $w_1$ dir."
   ]
  },
  {
   "cell_type": "markdown",
   "metadata": {},
   "source": [
    "**Not:** Katsayılar için aşağıdakilerin hepsi de kullanılır:\n",
    "* $w$\n",
    "* $\\theta$\n",
    "* $\\beta$"
   ]
  },
  {
   "cell_type": "markdown",
   "metadata": {},
   "source": [
    "Tahmini **Least Squares** yöntemi ile yaparız.\n",
    "\n",
    "`Ordinary Least Squares (OLS)`\n",
    "\n",
    "Yani yine toplam hata karelerini hesaplayarak."
   ]
  },
  {
   "cell_type": "markdown",
   "metadata": {},
   "source": [
    "Herhangi bir i noktasındaki hata:\n",
    "\n",
    "**e: residual error**\n",
    "\n",
    "$$ e^{(i)} = \\hat y^{(i)} - y^{(i)} $$"
   ]
  },
  {
   "cell_type": "markdown",
   "metadata": {},
   "source": [
    "**RSS: Residual Sum of Squares**\n",
    "\n",
    "$$RSS = e_1^2 + e_2^2 + ... + e_n^2$$"
   ]
  },
  {
   "cell_type": "markdown",
   "metadata": {},
   "source": [
    "Least Squares yöntemi, RSS minimize ederek, en iyi $w_0$ ve $w_1$ değerlerini tahmin eder."
   ]
  },
  {
   "cell_type": "markdown",
   "metadata": {},
   "source": [
    "$$ \\hat w_1 = \\frac{\\sum_{i=1}^n (x^{(i)} - \\overline x)(y^{(i)} - \\overline y)}{\\sum_{i=1}^n (x^{(i)} - \\overline x)^2} $$\n",
    "\n",
    "$$ \\hat w_0 = \\overline y - \\hat w_1 \\overline x $$\n",
    "\n",
    "burada:\n",
    "\n",
    "$$ \\overline y = \\frac{1}{n} \\sum_{i=1}^n y^{(i)} $$\n",
    "\n",
    "$$ \\overline x = \\frac{1}{n} \\sum_{i=1}^n x^{(i)} $$"
   ]
  },
  {
   "cell_type": "markdown",
   "metadata": {},
   "source": [
    "Analitik Yöntem ile çözüm çoğu zaman mümkün olmaz."
   ]
  },
  {
   "cell_type": "markdown",
   "metadata": {},
   "source": [
    "X, W ve y aslında birer Matristirler ve çoğu zaman X matrisinin boyutu çok ama çok büyük olur."
   ]
  },
  {
   "cell_type": "markdown",
   "metadata": {},
   "source": [
    "Analitik Yöntem ile wları bulmak için çok büyük oranda Matrix Çarpımları yapılması gerekir ki, bilgisayarların CPU/GPU'sunu ciddi oranda yoran bir işlemdir."
   ]
  },
  {
   "cell_type": "markdown",
   "metadata": {},
   "source": [
    "Daha etkili bir yol bulmamız lazım."
   ]
  },
  {
   "cell_type": "markdown",
   "metadata": {},
   "source": [
    "**Problem Tanımı:**\n",
    "\n",
    "Toplam Hatayı minimize edecek $w_0$ ve $w_1$ değerlerini bulmak.\n",
    "\n",
    "Toplam Hata, $w_0$ ve $w_1$ değişkenlerine bağlı bir Convex Fonksiyondur. (Kareleri olduğu için)"
   ]
  },
  {
   "cell_type": "markdown",
   "metadata": {},
   "source": [
    "### Terimler"
   ]
  },
  {
   "cell_type": "markdown",
   "metadata": {},
   "source": [
    "**Cost Function (Maliyet Fonksiyonu):**\n",
    "\n",
    "Minimize etmeye çalıştığımız maliyet fonksiyonu.\n",
    "\n",
    "Bu fonksiyon $w_0$ ve $w_1$ değişkenlerine bağlı Convex bir fonksiyondur."
   ]
  },
  {
   "cell_type": "markdown",
   "metadata": {},
   "source": [
    "$$ J(w) = \\frac{1}{2n} \\sum_{i=1}^n (\\hat y^{(i)} - y^{(i)})^2 $$"
   ]
  },
  {
   "cell_type": "markdown",
   "metadata": {},
   "source": [
    "Cost Function aslında MSE'nin (Mean Square Error) özel bir formudur."
   ]
  },
  {
   "cell_type": "markdown",
   "metadata": {},
   "source": [
    "**Gradient:**\n",
    "\n",
    "Cost Function'ın değişkenlere (wlar) göre değişim miktarı (türevi)."
   ]
  },
  {
   "cell_type": "markdown",
   "metadata": {},
   "source": [
    "$$ J(w) = \\frac{1}{2n} \\sum_{i=1}^n (\\hat w_0 + \\hat w_1x^{(i)} - y^{(i)})^2 $$"
   ]
  },
  {
   "cell_type": "markdown",
   "metadata": {},
   "source": [
    "$w_0$ a göre kısmı türev:\n",
    "\n",
    "$$ \\frac{\\partial J(w)}{\\partial w_0} = \\frac{1}{n} \\sum_{i=1}^n (\\hat w_0 + \\hat w_1x^{(i)} - y^{(i)}) $$\n",
    "\n",
    "$$ \\frac{\\partial J(w)}{\\partial w_0} = \\frac{1}{n} \\sum_{i=1}^n (\\hat y^{(i)} - y^{(i)}) $$"
   ]
  },
  {
   "cell_type": "markdown",
   "metadata": {},
   "source": [
    "$w_1$ a göre kısmı türev:\n",
    "\n",
    "$$ \\frac{\\partial J(w)}{\\partial w_1} = \\frac{1}{n} \\sum_{i=1}^n (\\hat w_0 + \\hat w_1x^{(i)} - y^{(i)}) x^{(i)} $$\n",
    "\n",
    "$$ \\frac{\\partial J(w)}{\\partial w_1} = \\frac{1}{n} \\sum_{i=1}^n (\\hat y^{(i)} - y^{(i)}) x^{(i)} $$"
   ]
  },
  {
   "cell_type": "markdown",
   "metadata": {},
   "source": [
    "Şimdi Cost Function (J) **w**'lara göre nasıl değiştiğini (türevini) her bir $x^{(i)}$ ve $y^{(i)}$ noktasında bildiğimize göre bunu kullanabiliriz.\n",
    "\n",
    "Bu türeve **Gradient** adı verilir."
   ]
  },
  {
   "cell_type": "markdown",
   "metadata": {},
   "source": [
    "Gradient'in genel gösterimi (W vektörü üzerinden):\n",
    "\n",
    "$$ \\frac{\\partial J(W)}{\\partial W_j} = \\frac{1}{n} \\sum_{i=1}^n (\\hat y^{(i)} - y^{(i)}) X_j^{(i)} $$"
   ]
  },
  {
   "cell_type": "markdown",
   "metadata": {},
   "source": [
    "<img src='images/cost_function.jpeg' />"
   ]
  },
  {
   "cell_type": "markdown",
   "metadata": {},
   "source": [
    "Gradient Descent Nasıl Çalışır:\n",
    "\n",
    "1. Önce bir başlangıç noktası seçilir ($w_0$ ve $w_1$)\n",
    "2. Bu noktası için Cost Function değeri **J(w)** hesaplanır\n",
    "3. Bu J(w) değeri üzerinden $w_0$ ve $w_1$ için **Gradient** hesaplanır\n",
    "4. Bu Gradient'in **negativ** değeri alınır (amacımız Cost Function'ı azaltmak çünkü)\n",
    "5. Bu negatif değer bir learning rate **$\\alpha$** ile çarpılır\n",
    "6. Bu çarpım sonucu ilgili $w$ değerinden çıkarlır\n",
    "7. Döngü tekrar 1. adımdan devam eder (Belirlenen iteration-döngü sayısında)"
   ]
  },
  {
   "cell_type": "markdown",
   "metadata": {},
   "source": [
    "**Gradient Descent Akışı**"
   ]
  },
  {
   "cell_type": "markdown",
   "metadata": {},
   "source": [
    "Iterasyonlar üzerinen: $W$ yu update edeceğiz:\n",
    "\n",
    "**j**: iterasyon numarası"
   ]
  },
  {
   "cell_type": "markdown",
   "metadata": {},
   "source": [
    "$$ W_j := W_j - \\alpha (\\frac{1}{n} \\sum_{i=1}^n (\\hat y^{(i)} - y^{(i)}) X_j^{(i)}) $$"
   ]
  },
  {
   "cell_type": "markdown",
   "metadata": {},
   "source": [
    "Burada **$\\alpha$ : learning rate**"
   ]
  },
  {
   "cell_type": "markdown",
   "metadata": {},
   "source": [
    "#### Gradient Descent - Python"
   ]
  },
  {
   "cell_type": "code",
   "execution_count": 7,
   "metadata": {},
   "outputs": [],
   "source": [
    "# Maliyet (Cost) Hesaplama Fonksiyonu\n",
    "\n",
    "def cal_cost(W, X, y):\n",
    "    \"\"\"\n",
    "    X ve y için Cost(Maliyet) hesaplar.\n",
    "    Parametreler:\n",
    "    W = Katsayı vektörü -> (p, 1)\n",
    "    X = Girdi vektörü   -> (n, p)\n",
    "    y = Gerçek y'ler    -> (n, 1)\n",
    "    Burada:\n",
    "    n: Toplam veri adedi (satır sayısı)\n",
    "    p: X içindeki değişken adedi (Sütun sayısı)\n",
    "    \n",
    "    Dönüş:\n",
    "    cost = hesaplanan maliyet değeri\n",
    "    \"\"\"\n",
    "    \n",
    "    n = len(y)\n",
    "    \n",
    "    # önce tahmini hesapla -> 𝑦̂ = X W\n",
    "    # X -> (n,p)\n",
    "    # W -> (p, 1)\n",
    "    # 𝑦̂ -> (n, 1)\n",
    "    tahmin = X.dot(W)\n",
    "    \n",
    "#a ve b vektörlerinin nokta çarpımını döndürür.\n",
    "    \n",
    "    #cost function değerini hesapla -> J\n",
    "    cost = (1/2*n) * np.sum(np.square(tahmin-y))\n",
    "    \n",
    "#np.square -> Bu matematiksel fonksiyon, kullanıcının dizideki her bir elemanın kare değerini hesaplamasına yardımcı olur.\n",
    "    #maliyet (cost) değerini dön\n",
    "    return cost\n",
    "    "
   ]
  },
  {
   "cell_type": "code",
   "execution_count": 8,
   "metadata": {},
   "outputs": [],
   "source": [
    "# Gradient Descent Fonksiyonu\n",
    "# 𝛼  : learning rate\n",
    "# iteration=100 döngüyü kaç defa yapacağımızı belirtiriz.\n",
    "def gradient_descent(X, y, W, learning_rate=0.01, iterations=100):\n",
    "    \"\"\"\n",
    "    Gradient Descent ugulama fonksiyonu\n",
    "    parametreler:\n",
    "    X = X matrisi (bias unit eklenmiş hali, yani 1'lerden oluşmuş ilk sütun)\n",
    "    y = y vektörü\n",
    "    W = katsayı vektörü (w'lardan oluşmuş)\n",
    "    learning_rate = learning rate: alpha(öğrenme katsayısı)\n",
    "    iterations = toplam döngü sayısı\n",
    "    Dönüş:\n",
    "    * W vektörünün son hali\n",
    "    * Maliyet Listesi (cost history)\n",
    "    * W vektörünün listesi (weight history)\n",
    "    \"\"\"\n",
    "    \n",
    "    n=len(y)   #toplam veri adeti sayısı\n",
    "    cost_history = np.zeros(iterations)        \n",
    "    w_history = np.zeros((iterations, 2))\n",
    "# maliyet geçmişini yazdırma\n",
    "# w 2 boyutlu olduğu için 2 yazdık.\n",
    "    for it in range(iterations):\n",
    "        tahmin = np.dot(X, W)\n",
    "        W = W - (1/n) * learning_rate * (X.T.dot((tahmin - y)))\n",
    "        w_history[it,:] = W.T\n",
    "        cost_history[it] = cal_cost(W, X, y)\n",
    "    return W, cost_history, w_history\n",
    "        "
   ]
  },
  {
   "cell_type": "markdown",
   "metadata": {},
   "source": [
    "Şimdi **gradient_descent** fonksiyonunu kullanarak yukarıda yarattığımız veri seti için en uygun katsayıları bulalım:"
   ]
  },
  {
   "cell_type": "markdown",
   "metadata": {},
   "source": [
    "Önce bir başlangış **$W_0$** değeri belirlememiz lazım.\n",
    "\n",
    "* Gaussian (Normal) Dağılımda bir rasgele W vektörü alabiliriz\n",
    "https://numpy.org/doc/stable/reference/random/generated/numpy.random.randn.html"
   ]
  },
  {
   "cell_type": "code",
   "execution_count": 9,
   "metadata": {},
   "outputs": [
    {
     "name": "stdout",
     "output_type": "stream",
     "text": [
      "[[0.11662323]\n",
      " [0.98091647]]\n"
     ]
    }
   ],
   "source": [
    "W = np.random.randn(2,1)\n",
    "print(W)"
   ]
  },
  {
   "cell_type": "markdown",
   "metadata": {},
   "source": [
    "Şimdi bir learning rate'e (alpha) karar vermemiz lazım.\n",
    "\n",
    "Başlangıç için: 0.01"
   ]
  },
  {
   "cell_type": "code",
   "execution_count": 10,
   "metadata": {},
   "outputs": [],
   "source": [
    "lr = 0.01"
   ]
  },
  {
   "cell_type": "markdown",
   "metadata": {},
   "source": [
    "Toplam iteration (döngü) adedine karar verelim: 1000"
   ]
  },
  {
   "cell_type": "code",
   "execution_count": 11,
   "metadata": {},
   "outputs": [],
   "source": [
    "n_iter = 1000"
   ]
  },
  {
   "cell_type": "markdown",
   "metadata": {},
   "source": [
    "Elimizdeki X vektörü tek sütunluk bir vektör.\n",
    "\n",
    "$w_0$ için 1'lerden oluşan bir sütun (bias column) eklememiz lazım başına."
   ]
  },
  {
   "cell_type": "code",
   "execution_count": 12,
   "metadata": {
    "collapsed": true,
    "jupyter": {
     "outputs_hidden": true
    },
    "tags": []
   },
   "outputs": [
    {
     "data": {
      "text/plain": [
       "array([[1.67760392],\n",
       "       [1.22126933],\n",
       "       [0.03292783],\n",
       "       [1.40186532],\n",
       "       [0.01517834],\n",
       "       [1.10285613],\n",
       "       [0.23190269],\n",
       "       [1.72242839],\n",
       "       [1.3233157 ],\n",
       "       [1.35288838],\n",
       "       [0.3287204 ],\n",
       "       [1.31693016],\n",
       "       [1.59908869],\n",
       "       [0.75097211],\n",
       "       [0.84654337],\n",
       "       [0.27580741],\n",
       "       [1.78009757],\n",
       "       [0.65771451],\n",
       "       [0.48476757],\n",
       "       [1.09305445],\n",
       "       [0.906142  ],\n",
       "       [1.58440491],\n",
       "       [1.98658348],\n",
       "       [0.85902528],\n",
       "       [0.89764231],\n",
       "       [1.16347149],\n",
       "       [1.92476249],\n",
       "       [0.06778011],\n",
       "       [1.72222865],\n",
       "       [1.47305494],\n",
       "       [0.83723708],\n",
       "       [0.08966364],\n",
       "       [1.15084654],\n",
       "       [0.60142956],\n",
       "       [0.90063763],\n",
       "       [0.49672086],\n",
       "       [1.89553005],\n",
       "       [0.83141246],\n",
       "       [0.85592082],\n",
       "       [1.20283862],\n",
       "       [1.74700728],\n",
       "       [0.4939493 ],\n",
       "       [0.34519871],\n",
       "       [1.21233401],\n",
       "       [1.32616597],\n",
       "       [0.49246071],\n",
       "       [0.26303034],\n",
       "       [1.99825941],\n",
       "       [0.27780969],\n",
       "       [1.32602429],\n",
       "       [0.47149195],\n",
       "       [0.98189509],\n",
       "       [0.18878486],\n",
       "       [0.66515291],\n",
       "       [1.44206341],\n",
       "       [0.22304547],\n",
       "       [0.1013416 ],\n",
       "       [0.5496381 ],\n",
       "       [1.60764367],\n",
       "       [1.72799416],\n",
       "       [0.83482293],\n",
       "       [1.1638084 ],\n",
       "       [1.29199829],\n",
       "       [0.70420747],\n",
       "       [1.28630454],\n",
       "       [0.83589509],\n",
       "       [0.31302345],\n",
       "       [0.17097007],\n",
       "       [0.01483587],\n",
       "       [1.1723282 ],\n",
       "       [1.84036131],\n",
       "       [0.43438121],\n",
       "       [0.84338826],\n",
       "       [0.74398   ],\n",
       "       [0.22486814],\n",
       "       [0.49225765],\n",
       "       [0.189077  ],\n",
       "       [1.62553652],\n",
       "       [1.97286406],\n",
       "       [1.58741939],\n",
       "       [0.44409246],\n",
       "       [0.49026847],\n",
       "       [1.00837717],\n",
       "       [0.99782621],\n",
       "       [0.99974732],\n",
       "       [1.57217656],\n",
       "       [0.76963647],\n",
       "       [0.08509483],\n",
       "       [1.97466341],\n",
       "       [0.17693721],\n",
       "       [0.87944332],\n",
       "       [1.66321015],\n",
       "       [0.81346593],\n",
       "       [1.32433367],\n",
       "       [1.98318696],\n",
       "       [0.88863004],\n",
       "       [1.36364093],\n",
       "       [0.52241186],\n",
       "       [0.405095  ],\n",
       "       [0.84256274]])"
      ]
     },
     "execution_count": 12,
     "metadata": {},
     "output_type": "execute_result"
    }
   ],
   "source": [
    "X"
   ]
  },
  {
   "cell_type": "code",
   "execution_count": 13,
   "metadata": {
    "collapsed": true,
    "jupyter": {
     "outputs_hidden": true
    },
    "tags": []
   },
   "outputs": [
    {
     "name": "stdout",
     "output_type": "stream",
     "text": [
      "[[1.         1.67760392]\n",
      " [1.         1.22126933]\n",
      " [1.         0.03292783]\n",
      " [1.         1.40186532]\n",
      " [1.         0.01517834]\n",
      " [1.         1.10285613]\n",
      " [1.         0.23190269]\n",
      " [1.         1.72242839]\n",
      " [1.         1.3233157 ]\n",
      " [1.         1.35288838]\n",
      " [1.         0.3287204 ]\n",
      " [1.         1.31693016]\n",
      " [1.         1.59908869]\n",
      " [1.         0.75097211]\n",
      " [1.         0.84654337]\n",
      " [1.         0.27580741]\n",
      " [1.         1.78009757]\n",
      " [1.         0.65771451]\n",
      " [1.         0.48476757]\n",
      " [1.         1.09305445]\n",
      " [1.         0.906142  ]\n",
      " [1.         1.58440491]\n",
      " [1.         1.98658348]\n",
      " [1.         0.85902528]\n",
      " [1.         0.89764231]\n",
      " [1.         1.16347149]\n",
      " [1.         1.92476249]\n",
      " [1.         0.06778011]\n",
      " [1.         1.72222865]\n",
      " [1.         1.47305494]\n",
      " [1.         0.83723708]\n",
      " [1.         0.08966364]\n",
      " [1.         1.15084654]\n",
      " [1.         0.60142956]\n",
      " [1.         0.90063763]\n",
      " [1.         0.49672086]\n",
      " [1.         1.89553005]\n",
      " [1.         0.83141246]\n",
      " [1.         0.85592082]\n",
      " [1.         1.20283862]\n",
      " [1.         1.74700728]\n",
      " [1.         0.4939493 ]\n",
      " [1.         0.34519871]\n",
      " [1.         1.21233401]\n",
      " [1.         1.32616597]\n",
      " [1.         0.49246071]\n",
      " [1.         0.26303034]\n",
      " [1.         1.99825941]\n",
      " [1.         0.27780969]\n",
      " [1.         1.32602429]\n",
      " [1.         0.47149195]\n",
      " [1.         0.98189509]\n",
      " [1.         0.18878486]\n",
      " [1.         0.66515291]\n",
      " [1.         1.44206341]\n",
      " [1.         0.22304547]\n",
      " [1.         0.1013416 ]\n",
      " [1.         0.5496381 ]\n",
      " [1.         1.60764367]\n",
      " [1.         1.72799416]\n",
      " [1.         0.83482293]\n",
      " [1.         1.1638084 ]\n",
      " [1.         1.29199829]\n",
      " [1.         0.70420747]\n",
      " [1.         1.28630454]\n",
      " [1.         0.83589509]\n",
      " [1.         0.31302345]\n",
      " [1.         0.17097007]\n",
      " [1.         0.01483587]\n",
      " [1.         1.1723282 ]\n",
      " [1.         1.84036131]\n",
      " [1.         0.43438121]\n",
      " [1.         0.84338826]\n",
      " [1.         0.74398   ]\n",
      " [1.         0.22486814]\n",
      " [1.         0.49225765]\n",
      " [1.         0.189077  ]\n",
      " [1.         1.62553652]\n",
      " [1.         1.97286406]\n",
      " [1.         1.58741939]\n",
      " [1.         0.44409246]\n",
      " [1.         0.49026847]\n",
      " [1.         1.00837717]\n",
      " [1.         0.99782621]\n",
      " [1.         0.99974732]\n",
      " [1.         1.57217656]\n",
      " [1.         0.76963647]\n",
      " [1.         0.08509483]\n",
      " [1.         1.97466341]\n",
      " [1.         0.17693721]\n",
      " [1.         0.87944332]\n",
      " [1.         1.66321015]\n",
      " [1.         0.81346593]\n",
      " [1.         1.32433367]\n",
      " [1.         1.98318696]\n",
      " [1.         0.88863004]\n",
      " [1.         1.36364093]\n",
      " [1.         0.52241186]\n",
      " [1.         0.405095  ]\n",
      " [1.         0.84256274]]\n"
     ]
    }
   ],
   "source": [
    "n = len(X)\n",
    "# 1 lerden oluşmuş sütun oluşturduk w 2 boyutlu çarpmak için X inde 2 boyutlu olması gerekiyor.\n",
    "X_b = np.c_[np.ones((n,1)), X]\n",
    "print(X_b)"
   ]
  },
  {
   "cell_type": "code",
   "execution_count": 14,
   "metadata": {},
   "outputs": [],
   "source": [
    "W_final, cost_history, w_history = gradient_descent(X_b, y, W, lr, n_iter)"
   ]
  },
  {
   "cell_type": "markdown",
   "metadata": {},
   "source": [
    "Şimdi gradient_descent fonksiyonunu çağırabiliriz:"
   ]
  },
  {
   "cell_type": "code",
   "execution_count": 15,
   "metadata": {},
   "outputs": [
    {
     "name": "stdout",
     "output_type": "stream",
     "text": [
      "W final: [[4.25354606]\n",
      " [3.21137205]]\n"
     ]
    }
   ],
   "source": [
    "print('W final:', W_final)"
   ]
  },
  {
   "cell_type": "code",
   "execution_count": 21,
   "metadata": {
    "collapsed": true,
    "jupyter": {
     "outputs_hidden": true
    },
    "tags": []
   },
   "outputs": [
    {
     "name": "stdout",
     "output_type": "stream",
     "text": [
      "Cost History: [197147.51804568 189206.47699316 181590.53462338 174286.36720767\n",
      " 167281.19711764 160562.77044202 154119.33552086 147939.62235963\n",
      " 142012.82288706 136328.57202215 130876.92951718 125648.36254494\n",
      " 120633.72899969 115824.26148253 111211.55194315 106787.53695116\n",
      " 102544.48357101  98474.97581591  94571.90165696  90828.44056476\n",
      "  87238.0515616   83794.46176342  80491.65539137  77323.86323378\n",
      "  74285.55254001  71371.41732858  68576.36909254  65895.52788572\n",
      "  63324.21377445  60857.93863956  58492.39831445  56223.46504536\n",
      "  54047.18026069  51959.74763671  49957.52644741  48037.02518706\n",
      "  46194.89545399  44427.92608521  42733.03753136  41107.27646222\n",
      "  39547.81059331  38051.92372464  36617.01098264  35240.57425723\n",
      "  33920.21782592  32653.64415716  31438.6498858   30273.12195347\n",
      "  29155.03390718  28082.44234954  27053.48353463  26066.37010322\n",
      "  25119.38795197  24210.89323084  23339.3094636   22503.1247864\n",
      "  21700.88929945  20931.2125273   20192.76098325  19484.25583348\n",
      "  18804.470657    18152.22929745  17526.40380281  16925.91244973\n",
      "  16349.71784868  15796.82512687  15266.28018563  14757.16802913\n",
      "  14268.61116176  13799.76805102  13349.83165356  12918.02800153\n",
      "  12503.61484695  12105.88036157  11724.14189009  11357.74475441\n",
      "  11006.06110696  10668.48883101  10344.45048598  10033.39229611\n",
      "   9734.78318046   9448.11382275   9172.89577929   8908.66062345\n",
      "   8654.95912527   8411.36046459   8177.45147657   7952.83592796\n",
      "   7737.13382321   7529.98073889   7331.02718546   7139.93799518\n",
      "   6956.39173509   6780.08014408   6610.70759302   6447.99056703\n",
      "   6291.65716891   6141.44664303   5997.10891865   5858.40417196\n",
      "   5725.10240615   5596.98304858   5473.83456455   5355.45408686\n",
      "   5241.64706057   5132.22690227   5027.01467341   4925.83876695\n",
      "   4828.53460686   4734.94435993   4644.91665944   4558.30634013\n",
      "   4474.97418399   4394.78667652   4317.61577298   4243.3386742\n",
      "   4171.8376116    4102.99964097   4036.71644478   3972.88414252\n",
      "   3911.40310888   3852.17779934   3795.11658288   3740.13158164\n",
      "   3687.13851705   3636.05656236   3586.80820111   3539.3190915\n",
      "   3493.51793628   3449.33635793   3406.70877904   3365.57230751\n",
      "   3325.86662654   3287.53388904   3250.51861642   3214.76760154\n",
      "   3180.22981562   3146.85631891   3114.60017515   3083.41636938\n",
      "   3053.26172928   3024.09484959   2995.87601971   2968.56715427\n",
      "   2942.13172648   2916.5347043    2891.74248915   2867.72285718\n",
      "   2844.44490294   2821.87898531   2799.99667574   2778.7707085\n",
      "   2758.17493307   2738.18426845   2718.77465925   2699.92303377\n",
      "   2681.60726359   2663.806125     2646.49926183   2629.66715001\n",
      "   2613.29106338   2597.35304103   2581.83585595   2566.72298493\n",
      "   2551.99857976   2537.64743952   2523.6549841    2510.00722874\n",
      "   2496.69075963   2483.69271054   2471.00074036   2458.6030116\n",
      "   2446.48816973   2434.64532342   2423.06402555   2411.73425501\n",
      "   2400.64639923   2389.79123748   2379.15992479   2368.74397654\n",
      "   2358.53525374   2348.52594883   2338.70857212   2329.07593878\n",
      "   2319.62115631   2310.33761264   2301.21896454   2292.2591267\n",
      "   2283.45226112   2274.79276699   2266.27527095   2257.89461783\n",
      "   2249.64586166   2241.52425712   2233.52525135   2225.64447601\n",
      "   2217.87773977   2210.22102105   2202.67046106   2195.22235715\n",
      "   2187.87315639   2180.61944948   2173.45796482   2166.38556291\n",
      "   2159.39923094   2152.49607757   2145.673328     2138.92831917\n",
      "   2132.2584952    2125.66140301   2119.13468808   2112.67609046\n",
      "   2106.28344086   2099.95465698   2093.68773991   2087.48077076\n",
      "   2081.33190733   2075.23938104   2069.20149387   2063.21661549\n",
      "   2057.28318049   2051.39968573   2045.56468779   2039.77680051\n",
      "   2034.03469269   2028.3370858    2022.68275187   2017.07051138\n",
      "   2011.4992313    2005.96782321   2000.47524143   1995.02048131\n",
      "   1989.60257757   1984.22060265   1978.87366516   1973.56090849\n",
      "   1968.28150927   1963.03467611   1957.81964826   1952.63569434\n",
      "   1947.48211117   1942.35822262   1937.26337846   1932.19695339\n",
      "   1927.15834594   1922.14697756   1917.16229162   1912.2037526\n",
      "   1907.27084516   1902.36307336   1897.47995984   1892.62104508\n",
      "   1887.7858867    1882.9740587    1878.18515086   1873.41876804\n",
      "   1868.67452962   1863.95206888   1859.25103244   1854.57107971\n",
      "   1849.9118824    1845.27312399   1840.65449927   1836.05571386\n",
      "   1831.47648383   1826.91653519   1822.37560355   1817.85343372\n",
      "   1813.34977934   1808.86440248   1804.39707337   1799.94757002\n",
      "   1795.51567793   1791.10118977   1786.70390512   1782.32363015\n",
      "   1777.96017739   1773.61336546   1769.28301883   1764.96896758\n",
      "   1760.67104718   1756.38909826   1752.12296644   1747.87250208\n",
      "   1743.63756013   1739.41799993   1735.21368504   1731.02448306\n",
      "   1726.8502655    1722.69090757   1718.5462881    1714.41628934\n",
      "   1710.30079686   1706.1996994    1702.11288876   1698.04025966\n",
      "   1693.98170964   1689.93713893   1685.90645039   1681.88954935\n",
      "   1677.88634355   1673.89674303   1669.92066004   1665.95800898\n",
      "   1662.00870627   1658.07267031   1654.14982139   1650.24008163\n",
      "   1646.34337487   1642.45962666   1638.58876414   1634.73071602\n",
      "   1630.88541251   1627.05278526   1623.23276727   1619.42529292\n",
      "   1615.63029784   1611.84771891   1608.07749418   1604.31956286\n",
      "   1600.57386524   1596.84034271   1593.11893763   1589.40959337\n",
      "   1585.71225425   1582.0268655    1578.35337322   1574.69172436\n",
      "   1571.0418667    1567.40374879   1563.77731996   1560.16253025\n",
      "   1556.55933043   1552.96767193   1549.38750685   1545.81878794\n",
      "   1542.26146854   1538.71550258   1535.18084459   1531.65744964\n",
      "   1528.14527332   1524.64427175   1521.15440155   1517.67561983\n",
      "   1514.20788415   1510.75115254   1507.30538346   1503.87053578\n",
      "   1500.4465688    1497.03344222   1493.6311161    1490.23955091\n",
      "   1486.85870746   1483.4885469    1480.12903074   1476.78012082\n",
      "   1473.4417793    1470.11396864   1466.79665161   1463.48979128\n",
      "   1460.19335099   1456.90729439   1453.63158537   1450.36618809\n",
      "   1447.11106697   1443.86618668   1440.63151213   1437.40700848\n",
      "   1434.1926411    1430.9883756    1427.79417781   1424.61001376\n",
      "   1421.4358497    1418.2716521    1415.11738759   1411.97302303\n",
      "   1408.83852546   1405.71386211   1402.59900038   1399.49390787\n",
      "   1396.39855233   1393.31290171   1390.2369241    1387.17058777\n",
      "   1384.11386115   1381.06671283   1378.02911155   1375.00102621\n",
      "   1371.98242586   1368.97327968   1365.97355702   1362.98322736\n",
      "   1360.00226032   1357.03062566   1354.06829327   1351.11523318\n",
      "   1348.17141554   1345.23681066   1342.31138894   1339.39512093\n",
      "   1336.48797728   1333.5899288    1330.70094639   1327.82100107\n",
      "   1324.950064     1322.08810644   1319.23509975   1316.39101544\n",
      "   1313.5558251    1310.72950044   1307.91201329   1305.10333558\n",
      "   1302.30343934   1299.51229671   1296.72987995   1293.95616141\n",
      "   1291.19111353   1288.43470887   1285.6869201    1282.94771997\n",
      "   1280.21708132   1277.49497713   1274.78138043   1272.07626437\n",
      "   1269.3796022    1266.69136725   1264.01153296   1261.34007285\n",
      "   1258.67696054   1256.02216973   1253.37567422   1250.73744792\n",
      "   1248.10746479   1245.48569891   1242.87212444   1240.26671563\n",
      "   1237.6694468    1235.08029238   1232.49922688   1229.92622489\n",
      "   1227.3612611    1224.80431025   1222.25534721   1219.71434691\n",
      "   1217.18128436   1214.65613465   1212.13887298   1209.62947459\n",
      "   1207.12791485   1204.63416916   1202.14821304   1199.67002208\n",
      "   1197.19957193   1194.73683836   1192.28179717   1189.83442428\n",
      "   1187.39469566   1184.96258738   1182.53807557   1180.12113645\n",
      "   1177.7117463    1175.30988151   1172.9155185    1170.52863381\n",
      "   1168.14920402   1165.77720581   1163.41261592   1161.05541117\n",
      "   1158.70556846   1156.36306476   1154.0278771    1151.69998261\n",
      "   1149.37935846   1147.06598193   1144.75983035   1142.46088111\n",
      "   1140.1691117    1137.88449967   1135.60702264   1133.3366583\n",
      "   1131.07338441   1128.81717881   1126.56801939   1124.32588414\n",
      "   1122.09075109   1119.86259835   1117.64140412   1115.42714663\n",
      "   1113.21980421   1111.01935524   1108.82577819   1106.63905157\n",
      "   1104.45915398   1102.28606408   1100.11976059   1097.9602223\n",
      "   1095.80742808   1093.66135686   1091.52198762   1089.38929943\n",
      "   1087.2632714    1085.14388275   1083.03111271   1080.9249406\n",
      "   1078.82534583   1076.73230783   1074.64580613   1072.5658203\n",
      "   1070.49232999   1068.4253149    1066.36475481   1064.31062956\n",
      "   1062.26291903   1060.2216032    1058.18666209   1056.15807578\n",
      "   1054.13582443   1052.11988824   1050.11024749   1048.10688252\n",
      "   1046.10977372   1044.11890155   1042.13424653   1040.15578925\n",
      "   1038.18351034   1036.2173905    1034.25741051   1032.30355117\n",
      "   1030.35579338   1028.41411808   1026.47850627   1024.54893901\n",
      "   1022.62539743   1020.70786269   1018.79631606   1016.89073881\n",
      "   1014.99111231   1013.09741797   1011.20963727   1009.32775173\n",
      "   1007.45174295   1005.58159256   1003.71728228   1001.85879387\n",
      "   1000.00610914    998.15920997    996.31807828    994.48269607\n",
      "    992.65304538    990.82910832    989.01086703    987.19830373\n",
      "    985.39140069    983.59014022    981.79450472    980.0044766\n",
      "    978.22003837    976.44117256    974.66786177    972.90008865\n",
      "    971.13783591    969.38108631    967.62982266    965.88402784\n",
      "    964.14368475    962.40877639    960.67928576    958.95519597\n",
      "    957.23649013    955.52315143    953.81516313    952.11250849\n",
      "    950.41517088    948.72313369    947.03638035    945.35489438\n",
      "    943.67865932    942.00765878    940.3418764     938.6812959\n",
      "    937.02590102    935.37567558    933.73060343    932.09066848\n",
      "    930.45585468    928.82614605    927.20152663    925.58198054\n",
      "    923.96749194    922.35804503    920.75362406    919.15421334\n",
      "    917.55979723    915.97036013    914.38588648    912.8063608\n",
      "    911.23176762    909.66209155    908.09731722    906.53742934\n",
      "    904.98241264    903.43225191    901.88693198    900.34643775\n",
      "    898.81075413    897.27986611    895.75375872    894.23241701\n",
      "    892.71582612    891.2039712     889.69683746    888.19441017\n",
      "    886.69667462    885.20361616    883.7152202     882.23147215\n",
      "    880.75235752    879.27786184    877.80797067    876.34266965\n",
      "    874.88194443    873.42578073    871.9741643     870.52708094\n",
      "    869.0845165     867.64645687    866.21288797    864.78379579\n",
      "    863.35916634    861.93898569    860.52323994    859.11191525\n",
      "    857.70499781    856.30247385    854.90432967    853.51055157\n",
      "    852.12112593    850.73603915    849.35527769    847.97882804\n",
      "    846.60667673    845.23881034    843.87521548    842.51587883\n",
      "    841.16078708    839.80992698    838.46328531    837.12084889\n",
      "    835.78260461    834.44853936    833.1186401     831.79289381\n",
      "    830.47128753    829.15380833    827.84044332    826.53117965\n",
      "    825.22600452    823.92490515    822.62786883    821.33488286\n",
      "    820.04593459    818.76101142    817.48010078    816.20319013\n",
      "    814.93026698    813.66131889    812.39633343    811.13529824\n",
      "    809.87820098    808.62502936    807.3757711     806.130414\n",
      "    804.88894586    803.65135455    802.41762796    801.18775402\n",
      "    799.9617207     798.73951601    797.52112798    796.30654471\n",
      "    795.0957543     793.88874493    792.68550477    791.48602205\n",
      "    790.29028506    789.09828208    787.91000145    786.72543156\n",
      "    785.54456082    784.36737766    783.19387059    782.02402811\n",
      "    780.85783879    779.69529121    778.53637401    777.38107585\n",
      "    776.22938542    775.08129146    773.93678274    772.79584806\n",
      "    771.65847627    770.52465623    769.39437685    768.26762708\n",
      "    767.1443959     766.02467232    764.90844538    763.79570416\n",
      "    762.68643779    761.5806354     760.47828619    759.37937936\n",
      "    758.28390418    757.19184991    756.10320588    755.01796145\n",
      "    753.93610599    752.85762892    751.78251968    750.71076778\n",
      "    749.64236271    748.57729403    747.51555132    746.4571242\n",
      "    745.4020023     744.35017531    743.30163294    742.25636493\n",
      "    741.21436106    740.17561113    739.14010498    738.10783248\n",
      "    737.07878354    736.05294809    735.03031609    734.01087754\n",
      "    732.99462247    731.98154093    730.97162301    729.96485885\n",
      "    728.96123858    727.96075239    726.96339049    725.96914313\n",
      "    724.97800058    723.98995315    723.00499116    722.02310499\n",
      "    721.04428503    720.0685217     719.09580546    718.12612679\n",
      "    717.15947622    716.19584427    715.23522153    714.2775986\n",
      "    713.3229661     712.37131472    711.42263512    710.47691803\n",
      "    709.53415421    708.59433443    707.65744949    706.72349023\n",
      "    705.79244752    704.86431224    703.93907532    703.0167277\n",
      "    702.09726037    701.18066433    700.26693062    699.35605028\n",
      "    698.44801442    697.54281415    696.64044062    695.740885\n",
      "    694.84413849    693.95019231    693.05903773    692.17066602\n",
      "    691.28506849    690.40223649    689.52216137    688.64483453\n",
      "    687.77024738    686.89839137    686.02925798    685.16283868\n",
      "    684.29912503    683.43810855    682.57978083    681.72413348\n",
      "    680.87115812    680.02084642    679.17319004    678.3281807\n",
      "    677.48581014    676.64607011    675.8089524     674.97444882\n",
      "    674.14255121    673.31325142    672.48654135    671.66241291\n",
      "    670.84085804    670.0218687     669.20543687    668.39155458\n",
      "    667.58021386    666.77140678    665.96512542    665.16136189\n",
      "    664.36010833    663.56135691    662.76509981    661.97132924\n",
      "    661.18003744    660.39121666    659.6048592     658.82095735\n",
      "    658.03950344    657.26048985    656.48390893    655.70975311\n",
      "    654.9380148     654.16868645    653.40176054    652.63722957\n",
      "    651.87508606    651.11532255    650.35793161    649.60290583\n",
      "    648.85023782    648.09992023    647.35194571    646.60630695\n",
      "    645.86299665    645.12200754    644.38333237    643.64696391\n",
      "    642.91289497    642.18111836    641.45162693    640.72441353\n",
      "    639.99947106    639.27679242    638.55637054    637.83819837\n",
      "    637.1222689     636.40857511    635.69711003    634.98786669\n",
      "    634.28083816    633.57601751    632.87339787    632.17297235\n",
      "    631.4747341     630.77867629    630.08479211    629.39307477\n",
      "    628.70351752    628.01611359    627.33085627    626.64773886\n",
      "    625.96675467    625.28789704    624.61115932    623.93653491\n",
      "    623.2640172     622.5935996     621.92527558    621.25903857\n",
      "    620.59488208    619.93279959    619.27278464    618.61483077\n",
      "    617.95893154    617.30508053    616.65327136    616.00349763\n",
      "    615.35575301    614.71003114    614.06632572    613.42463044\n",
      "    612.78493904    612.14724525    611.51154283    610.87782556\n",
      "    610.24608726    609.61632173    608.98852281    608.36268437\n",
      "    607.73880028    607.11686444    606.49687077    605.87881319\n",
      "    605.26268568    604.64848218    604.03619671    603.42582327\n",
      "    602.81735588    602.21078861    601.6061155     601.00333066\n",
      "    600.40242817    599.80340217    599.20624679    598.61095619\n",
      "    598.01752455    597.42594606    596.83621494    596.24832542\n",
      "    595.66227174    595.07804818    594.49564902    593.91506856\n",
      "    593.33630111    592.75934103    592.18418267    591.61082039\n",
      "    591.0392486     590.4694617     589.90145411    589.33522028\n",
      "    588.77075468    588.20805177    587.64710605    587.08791205\n",
      "    586.53046428    585.97475729    585.42078565    584.86854394\n",
      "    584.31802676    583.76922871    583.22214444    582.6767686\n",
      "    582.13309583    581.59112084    581.05083831    580.51224296\n",
      "    579.97532952    579.44009274    578.90652739    578.37462824\n",
      "    577.84439009    577.31580775    576.78887606    576.26358986\n",
      "    575.73994401    575.21793338    574.69755288    574.17879741\n",
      "    573.6616619     573.14614128    572.63223052    572.11992458\n",
      "    571.60921846    571.10010716    570.5925857     570.08664912\n",
      "    569.58229246    569.0795108     568.5782992     568.07865278\n",
      "    567.58056664    567.08403592    566.58905574    566.09562128\n",
      "    565.6037277     565.1133702     564.62454397    564.13724423\n",
      "    563.65146623    563.16720519    562.6844564     562.20321512\n",
      "    561.72347665    561.24523629    560.76848937    560.29323123\n",
      "    559.81945721    559.34716267    558.87634301    558.40699361\n",
      "    557.93910989    557.47268725    557.00772116    556.54420704\n",
      "    556.08214038    555.62151664    555.16233133    554.70457996\n",
      "    554.24825803    553.7933611     553.33988471    552.88782442\n",
      "    552.43717581    551.98793448    551.54009603    551.09365608]\n"
     ]
    }
   ],
   "source": [
    "print('Cost History:', cost_history)"
   ]
  },
  {
   "cell_type": "code",
   "execution_count": 24,
   "metadata": {},
   "outputs": [
    {
     "name": "stdout",
     "output_type": "stream",
     "text": [
      "Initial Cost: 197147.51804567978\n",
      "Final Cost: 551.0936560771871\n"
     ]
    }
   ],
   "source": [
    "print('Initial Cost:', cost_history[0])  #ilk değer\n",
    "print('Final Cost:', cost_history[-1])   #son değer"
   ]
  },
  {
   "cell_type": "code",
   "execution_count": 25,
   "metadata": {},
   "outputs": [
    {
     "name": "stdout",
     "output_type": "stream",
     "text": [
      "W_0: [0.11662323]\n",
      "W_0_final: [4.25354606]\n"
     ]
    }
   ],
   "source": [
    "W_0 = W[0]\n",
    "print('W_0:',W_0)\n",
    "\n",
    "W_0_final = W_final[0]\n",
    "print('W_0_final:', W_0_final)"
   ]
  },
  {
   "cell_type": "code",
   "execution_count": 27,
   "metadata": {},
   "outputs": [
    {
     "name": "stdout",
     "output_type": "stream",
     "text": [
      "W_1: [0.98091647]\n",
      "W_1_final: [3.21137205]\n"
     ]
    }
   ],
   "source": [
    "W_1 = W[1]\n",
    "print('W_1:',W_1)\n",
    "\n",
    "W_1_final = W_final[1]\n",
    "print('W_1_final:', W_1_final)"
   ]
  },
  {
   "cell_type": "markdown",
   "metadata": {},
   "source": [
    "Gerçek Katsayılar:\n",
    "\n",
    "$w_0 = 4$\n",
    "\n",
    "$w_1 = 3$"
   ]
  },
  {
   "cell_type": "markdown",
   "metadata": {},
   "source": [
    "Gradient Descent ile bulduğumuz katsayılar:\n",
    "\n",
    "$\\hat w_0 = 4.46680339$\n",
    "\n",
    "$\\hat w_1 = 3.01023083$"
   ]
  },
  {
   "cell_type": "markdown",
   "metadata": {},
   "source": [
    "Gördüğünüz gibi oldukça yakın birbirlerine."
   ]
  },
  {
   "cell_type": "markdown",
   "metadata": {},
   "source": [
    "### Learning Rate"
   ]
  },
  {
   "cell_type": "markdown",
   "metadata": {},
   "source": [
    "Şimdi Maliyetin (Cost) her iterasyonda nasıl değiştiğine bakalım:"
   ]
  },
  {
   "cell_type": "code",
   "execution_count": 29,
   "metadata": {},
   "outputs": [],
   "source": [
    "# Maliyet Değişimini çizen fonksiyon\n",
    "\n",
    "def cost_vs_iterations(cost_history,n_iter):\n",
    "    fig, ax = plt.subplots(figsize=(12,8))\n",
    "    plt.plot(range(n_iter), cost_history)\n",
    "    \n",
    "    plt.xlabel('Iterations')\n",
    "    plt.ylabel('J(W)')\n",
    "    plt.title('MALİYET - ITERASYON')\n",
    "    plt.grid()\n",
    "    plt.show()"
   ]
  },
  {
   "cell_type": "code",
   "execution_count": 30,
   "metadata": {},
   "outputs": [
    {
     "data": {
      "image/png": "[encoded data removed]",
      "text/plain": [
       "<Figure size 864x576 with 1 Axes>"
      ]
     },
     "metadata": {
      "needs_background": "light"
     },
     "output_type": "display_data"
    }
   ],
   "source": [
    "cost_vs_iterations(cost_history, n_iter)"
   ]
  },
  {
   "cell_type": "markdown",
   "metadata": {},
   "source": [
    "Grafikten de görüldüğü gibi iterasyon sayısı arttıkça:\n",
    "* başta Cost değeri çok hızlı azalıyor\n",
    "* belli bir iterasyon sayısından sonra (takriben 180 civarı) artık pek azalmıyor"
   ]
  },
  {
   "cell_type": "markdown",
   "metadata": {},
   "source": [
    "Fakat dikkat edin leraning rate yani **alpha = 0.01** için aldık bu sonucu."
   ]
  },
  {
   "cell_type": "code",
   "execution_count": 33,
   "metadata": {},
   "outputs": [],
   "source": [
    "def call_gradient(learning_Rate, n_iter):\n",
    "    # bu learning_Rate ve n_iter için maliyeet değerlerini al\n",
    "    W_final, cost_history, w_history = gradient_descent(X_b, y, W,learning_rate, n_iter)\n",
    "    \n",
    "    #bu maliyet değerlerine göre çizim yap\n",
    "    cost_vs_iterations(cost_history, n_iter)"
   ]
  },
  {
   "cell_type": "markdown",
   "metadata": {},
   "source": [
    "**Deney 1:** Learning rate aynı olsun **alpha = 0.01** ama iterasyon sayısını artıralım: 2000"
   ]
  },
  {
   "cell_type": "code",
   "execution_count": 34,
   "metadata": {},
   "outputs": [
    {
     "data": {
      "image/png": "[encoded data removed]",
      "text/plain": [
       "<Figure size 864x576 with 1 Axes>"
      ]
     },
     "metadata": {
      "needs_background": "light"
     },
     "output_type": "display_data"
    }
   ],
   "source": [
    "# learning_rate = 0.01\n",
    "# n_iter = 2000\n",
    "\n",
    "learning_rate = 0.01\n",
    "n_iter = 2000\n",
    "call_gradient(learning_rate, n_iter)\n"
   ]
  },
  {
   "cell_type": "markdown",
   "metadata": {},
   "source": [
    "**Sonuç:** Gördüğünüz gibi, hiçbir şey değişmedi. Çünkü zaten 180'inci iterasyon dolaylarında en iyi değerleri bulmuş oluyordu."
   ]
  },
  {
   "cell_type": "code",
   "execution_count": 35,
   "metadata": {},
   "outputs": [
    {
     "data": {
      "image/png": "[encoded data removed]",
      "text/plain": [
       "<Figure size 864x576 with 1 Axes>"
      ]
     },
     "metadata": {
      "needs_background": "light"
     },
     "output_type": "display_data"
    }
   ],
   "source": [
    "# learning_rate = 0.01\n",
    "# n_iter = 500\n",
    "\n",
    "learning_rate = 0.01\n",
    "n_iter = 500\n",
    "call_gradient(learning_rate, n_iter)"
   ]
  },
  {
   "cell_type": "markdown",
   "metadata": {},
   "source": [
    "**Deney 2:** Iterasyon sayısı aynı (1000) olsun ama Learning rate'i artıralım **alpha = 0.05** "
   ]
  },
  {
   "cell_type": "code",
   "execution_count": 37,
   "metadata": {},
   "outputs": [
    {
     "data": {
      "image/png": "[encoded data removed]",
      "text/plain": [
       "<Figure size 864x576 with 1 Axes>"
      ]
     },
     "metadata": {
      "needs_background": "light"
     },
     "output_type": "display_data"
    }
   ],
   "source": [
    "# learning_rate = 0.05\n",
    "# n_iter = 1000\n",
    "\n",
    "learning_rate = 0.05\n",
    "n_iter = 1000\n",
    "call_gradient(learning_rate, n_iter)"
   ]
  },
  {
   "cell_type": "markdown",
   "metadata": {},
   "source": [
    "**Sonuç:** Gördüğünüz gibi, sonuca çok daha hızlı yaklaştı. Takriben 40. iterasyon gibi."
   ]
  },
  {
   "cell_type": "markdown",
   "metadata": {},
   "source": [
    "O zaman learning rate'i adım büyüklüğü olarak düşünebiliriz.\n",
    "\n",
    "Ne kadar büyük olursa sonuca o kadar çabuk gideriz... **ACABA???**"
   ]
  },
  {
   "cell_type": "markdown",
   "metadata": {},
   "source": [
    "**Deney 3:** Iterasyon sayısı aynı (1000) olsun ama Learning rate'i artıralım **alpha = 0.1** "
   ]
  },
  {
   "cell_type": "code",
   "execution_count": 38,
   "metadata": {},
   "outputs": [
    {
     "data": {
      "image/png": "[encoded data removed]",
      "text/plain": [
       "<Figure size 864x576 with 1 Axes>"
      ]
     },
     "metadata": {
      "needs_background": "light"
     },
     "output_type": "display_data"
    }
   ],
   "source": [
    "# learning_rate = 0.1\n",
    "# n_iter = 1000\n",
    "\n",
    "learning_rate = 0.1\n",
    "n_iter = 1000\n",
    "call_gradient(learning_rate, n_iter)"
   ]
  },
  {
   "cell_type": "markdown",
   "metadata": {},
   "source": [
    "**Sonuç:** Gördüğünüz gibi, sonuca biraz daha hızlı yaklaştı. Takriben 20. iterasyon gibi."
   ]
  },
  {
   "cell_type": "markdown",
   "metadata": {},
   "source": [
    "Şimdi sıkı durun :)"
   ]
  },
  {
   "cell_type": "markdown",
   "metadata": {},
   "source": [
    "**Deney 4:** Iterasyon sayısı aynı (1000) olsun ama Learning rate'i artıralım **alpha = 1** "
   ]
  },
  {
   "cell_type": "code",
   "execution_count": 39,
   "metadata": {},
   "outputs": [
    {
     "data": {
      "image/png": "[encoded data removed]",
      "text/plain": [
       "<Figure size 864x576 with 1 Axes>"
      ]
     },
     "metadata": {
      "needs_background": "light"
     },
     "output_type": "display_data"
    }
   ],
   "source": [
    "# learning_rate = 1\n",
    "# n_iter = 1000\n",
    "\n",
    "learning_rate = 1\n",
    "n_iter = 1000\n",
    "call_gradient(learning_rate, n_iter)"
   ]
  },
  {
   "cell_type": "markdown",
   "metadata": {},
   "source": [
    "**Sonuç:** Bu sefer bırakın en iyi değeri bulmayı, maliyet belli bir yerden sonra çok hızlı arttı."
   ]
  },
  {
   "cell_type": "markdown",
   "metadata": {},
   "source": [
    "**Neden:**\n",
    "\n",
    "Overshoot yaptık.\n",
    "\n",
    "Çok büyük learning rate'te en iyi noktayı atladık.\n",
    "\n",
    "Adım büyüklüğümüz çok büyüktü çünkü."
   ]
  },
  {
   "cell_type": "markdown",
   "metadata": {},
   "source": [
    "<img src='images/overshoot.jpg' />"
   ]
  },
  {
   "cell_type": "markdown",
   "metadata": {},
   "source": [
    "**Soru:** Peki çok küçük learning rate'lerde ne olurdu?"
   ]
  },
  {
   "cell_type": "markdown",
   "metadata": {},
   "source": [
    "**Deney 4:** Iterasyon sayısı aynı (1000) olsun ama Learning rate'i küçültelim **alpha = 0.001** "
   ]
  },
  {
   "cell_type": "code",
   "execution_count": 40,
   "metadata": {},
   "outputs": [
    {
     "data": {
      "image/png": "[encoded data removed]",
      "text/plain": [
       "<Figure size 864x576 with 1 Axes>"
      ]
     },
     "metadata": {
      "needs_background": "light"
     },
     "output_type": "display_data"
    }
   ],
   "source": [
    "# learning_rate = 0.001\n",
    "# n_iter = 1000\n",
    "learning_rate = 0.001\n",
    "n_iter = 1000\n",
    "call_gradient(learning_rate, n_iter)"
   ]
  },
  {
   "cell_type": "markdown",
   "metadata": {},
   "source": [
    "**Sonuç:** Fena değil, 1000. iterasyonda minimum bir değere geldik."
   ]
  },
  {
   "cell_type": "markdown",
   "metadata": {},
   "source": [
    "Şimdi learning rate'i daha da küçültelim:"
   ]
  },
  {
   "cell_type": "markdown",
   "metadata": {},
   "source": [
    "**Deney 5:** Iterasyon sayısı aynı (1000) olsun ama Learning rate'i daha da küçültelim **alpha = 0.0001** "
   ]
  },
  {
   "cell_type": "code",
   "execution_count": 41,
   "metadata": {},
   "outputs": [
    {
     "data": {
      "image/png": "[encoded data removed]",
      "text/plain": [
       "<Figure size 864x576 with 1 Axes>"
      ]
     },
     "metadata": {
      "needs_background": "light"
     },
     "output_type": "display_data"
    }
   ],
   "source": [
    "# learning_rate = 0.0001\n",
    "# n_iter = 1000\n",
    "\n",
    "learning_rate = 0.0001\n",
    "n_iter = 1000\n",
    "call_gradient(learning_rate, n_iter)"
   ]
  },
  {
   "cell_type": "markdown",
   "metadata": {},
   "source": [
    "**Sonuç:** Çok kötü, çünkü **Final Cost = 404.5** değerine yaklaşamadık daha."
   ]
  },
  {
   "cell_type": "markdown",
   "metadata": {},
   "source": [
    "Şimdi mecburen iterasyon sayısını artırmamız lazım."
   ]
  },
  {
   "cell_type": "markdown",
   "metadata": {},
   "source": [
    "**Deney 6:** Iterasyon sayısı artsın (10000) ve Learning rate'i daha da küçültelim **alpha = 0.0001** "
   ]
  },
  {
   "cell_type": "code",
   "execution_count": 43,
   "metadata": {},
   "outputs": [
    {
     "data": {
      "image/png": "[encoded data removed]",
      "text/plain": [
       "<Figure size 864x576 with 1 Axes>"
      ]
     },
     "metadata": {
      "needs_background": "light"
     },
     "output_type": "display_data"
    }
   ],
   "source": [
    "# learning_rate = 0.0001\n",
    "# n_iter = 10000\n",
    "learning_rate = 0.0001\n",
    "n_iter = 10000\n",
    "call_gradient(learning_rate, n_iter)"
   ]
  },
  {
   "cell_type": "markdown",
   "metadata": {},
   "source": [
    "**Sonuç:** Şimdi 10000. iterasyonda gerçek maliyete yani **Final Cost = 404.5** yaklaştık."
   ]
  },
  {
   "cell_type": "markdown",
   "metadata": {},
   "source": [
    "**ÇIKARIM:**\n",
    "\n",
    "* Learning Rate çok büyük olursa, Overshoot yaparsınız ve asla minimum Cost değerine yaklaşamazsınız.\n",
    "\n",
    "* Learning Rate çok küçük olursa, o zaman da adımlarınız çok küçük olacağı için Optimum Cost değerine yaklaşmanız çok uzun sürer (fazla iterasyon)"
   ]
  },
  {
   "cell_type": "markdown",
   "metadata": {},
   "source": [
    "Otimimum learning rate'i nasıl bileceğiz.\n",
    "\n",
    "Temel olarak bilemeyiz ama learning rate'i biraz büyük başlatıp giderek küçülten algoritmalar var: **Adam Optimizer**."
   ]
  },
  {
   "cell_type": "markdown",
   "metadata": {},
   "source": [
    "https://developers.google.com/machine-learning/crash-course/reducing-loss/gradient-descent"
   ]
  },
  {
   "cell_type": "markdown",
   "metadata": {},
   "source": [
    "### Stochastic Gradient Descent (SGD)"
   ]
  },
  {
   "cell_type": "markdown",
   "metadata": {},
   "source": [
    "Gradient Descent'i uygularken veri seti üzerinde sırası ile işlem yaptık.\n",
    "\n",
    "Yani 1., 2., 3., 4... şeklinde."
   ]
  },
  {
   "cell_type": "markdown",
   "metadata": {},
   "source": [
    "Ama gerçek hayatta bu pek tercih edilmez."
   ]
  },
  {
   "cell_type": "markdown",
   "metadata": {},
   "source": [
    "Her optimizasyon adımında kullanılacak veri rasgele seçilir (stochastic).\n",
    "\n",
    "Böylece daha az hatalı bir tahmin elde etmiş oluruz."
   ]
  },
  {
   "cell_type": "code",
   "execution_count": 44,
   "metadata": {},
   "outputs": [],
   "source": [
    "# Stochastic Gradient Descent Fonksiyonu\n",
    "\n",
    "def stochastic_gradient(X, y, W, learning_rate=0.01, iterations=100):\n",
    "    \"\"\"\n",
    "    Stochastic Gradient Descent uygulama fonksiyonu.\n",
    "    Parametreler:\n",
    "    X = X Matrisi (bias unit eklenmiş hali,yani 1'lerden oluşmuş ilk sütun)\n",
    "    y = y vektörü \n",
    "    W = Katsayı vektörü (w'lardan oluşmuş)\n",
    "    learning_rate = learning rate: alpha (öğrenme katsayısı)\n",
    "    iterations = toplam döngü sayısı\n",
    "    Dönüş:\n",
    "    *W vektörünün son hali \n",
    "    *Maliyet Listesi (cost history)\n",
    "    *W vektörünün listesi (weight history)\n",
    "    \"\"\"\n",
    "    \n",
    "    n = len(y)\n",
    "    cost_history = np.zeros(iterations)\n",
    "    \n",
    "    for it in range(iterations):\n",
    "        cost = 0\n",
    "        #her seferinde rasgele bir X_i değeri seçip maliyet hesaplama\n",
    "        for i in range(n):\n",
    "            #rasgele bir değer al\n",
    "            rand_in = np.random.randint(0,n)\n",
    "            \n",
    "            X_i = X[rand_ind,:].reshape(1,X.shape[1])\n",
    "            y_i = y[rand_ind].reshape(1,1)\n",
    "            \n",
    "            #tek X_i için tahmin \n",
    "            tahmin = np.dot(X_i,W)\n",
    "            \n",
    "            #tek X_i için katsayı tahmini \n",
    "            W =  W - (1/n) * learning_rate * (X_i.T.dot((tahmin - y_i)))\n",
    "            \n",
    "            # tek X_i için hesaplanan cost'u cost değişkenine ekle\n",
    "            cost += cal_cost(W, X_i,y_i)\n",
    "            \n",
    "        #bu iterasyon için cost değerini cost_history'ye ekle\n",
    "        cost_history[it] = cost\n",
    "        \n",
    "    return W, cost_history\n",
    "\n",
    "    "
   ]
  },
  {
   "cell_type": "markdown",
   "metadata": {},
   "source": [
    "Yukarıda uyguladığımız fonksiyon her iterasyonda, X'ler üzerinde rasgele dönüp maliyet topladı.\n",
    "\n",
    "Böylece bir nebze iyilişme sağladık.\n",
    "\n",
    "Fakat hala bir sorun var:"
   ]
  },
  {
   "cell_type": "markdown",
   "metadata": {},
   "source": [
    "X'ler üzerinde teker teker döndük. Yani her seferinde maliyet hesaplarken bir X satırı aldık (X_i).\n",
    "\n",
    "Gerçek hayatta bu pek tercih edilmez çünkü büyük verilerde çok zaman kaybı demek."
   ]
  },
  {
   "cell_type": "markdown",
   "metadata": {},
   "source": [
    "Bunun çözümü X'leri teker teker değil, parti olarak almak (batch).\n",
    "\n",
    "Buna da Mini-Batch Stochastic Gradient Descent denir."
   ]
  },
  {
   "cell_type": "markdown",
   "metadata": {},
   "source": [
    "### Mini-Batch Stochastic Gradient Descent"
   ]
  },
  {
   "cell_type": "markdown",
   "metadata": {},
   "source": [
    "X'ler üzerinden maliyet hesaplarken verileri partiler halinde alıp o şekilde maliyet hesaplayacağız."
   ]
  },
  {
   "cell_type": "code",
   "execution_count": 47,
   "metadata": {},
   "outputs": [],
   "source": [
    "# Mini-Batch Stochastic Gradient Descent Fonksiyonu\n",
    "def minibatch_stochastic_gradient(X, y, W, learning_rate=0.01, iterations=100):\n",
    "    \"\"\"\n",
    "    Stochastic Gradient Descent uygulama fonksiyonu.\n",
    "    Parametreler:\n",
    "    X = X Matrisi (bias unit eklenmiş hali,yani 1'lerden oluşmuş ilk sütun)\n",
    "    y = y vektörü \n",
    "    W = Katsayı vektörü (w'lardan oluşmuş)\n",
    "    learning_rate = learning rate: alpha (öğrenme katsayısı)\n",
    "    iterations = toplam döngü sayısı\n",
    "    Dönüş:\n",
    "    *W vektörünün son hali \n",
    "    *Maliyet Listesi (cost history)\n",
    "    *W vektörünün listesi (weight history)\n",
    "    \"\"\"\n",
    "    \n",
    "    n = len(y)\n",
    "    cost_history = np.zeros(iterations)\n",
    "    #toplam kaç adet batch olacak\n",
    "    n_batches = int(n / batch_size)\n",
    "    \n",
    "    \n",
    "    for it in range(iterations):\n",
    "        cost = 0\n",
    "        # X ve y'leri karıştır (veri sıraları rasgele olsun)\n",
    "        indices = np.random.permutation(n)\n",
    "        X = X[indices]\n",
    "        y = y[indices]\n",
    "        \n",
    "        \n",
    "        #her seferinde rasgele bir X_i değeri seçip maliyet hesaplama\n",
    "        for i in range(0,n,batch_size):\n",
    "            #rasgele bX_i ve y_i partileri\n",
    "            X_i =X[i:i+batch_size]\n",
    "            y_i =y[i:i+batch_size]\n",
    "            \n",
    "            #bias column ekle (1'ler sütunu)\n",
    "            x_i = np.c_[np.ones(len(X_i)), X_i]\n",
    "            \n",
    "            #X_i partisi için tahmin \n",
    "            tahmin = np.dot(X_i, W)\n",
    "            \n",
    "            # X_i partisi  için katsayı tahmini \n",
    "            W =  W - (1/n) * learning_rate * (X_i.T.dot((tahmin - y_i)))\n",
    "            \n",
    "            # tek X_i için hesaplanan cost'u cost değişkenine ekle\n",
    "            cost += cal_cost(W, X_i,y_i)\n",
    "            \n",
    "        #bu iterasyon için cost değerini cost_history'ye ekle\n",
    "        cost_history[it] = cost\n",
    "        \n",
    "    return W, cost_history\n"
   ]
  },
  {
   "cell_type": "code",
   "execution_count": null,
   "metadata": {},
   "outputs": [],
   "source": []
  }
 ],
 "metadata": {
  "kernelspec": {
   "display_name": "Python 3 (ipykernel)",
   "language": "python",
   "name": "python3"
  },
  "language_info": {
   "codemirror_mode": {
    "name": "ipython",
    "version": 3
   },
   "file_extension": ".py",
   "mimetype": "text/x-python",
   "name": "python",
   "nbconvert_exporter": "python",
   "pygments_lexer": "ipython3",
   "version": "3.9.12"
  }
 },
 "nbformat": 4,
 "nbformat_minor": 4
}
